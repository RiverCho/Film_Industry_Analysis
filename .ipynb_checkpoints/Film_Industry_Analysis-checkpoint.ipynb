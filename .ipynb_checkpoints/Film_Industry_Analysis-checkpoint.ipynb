{
 "cells": [
  {
   "cell_type": "markdown",
   "id": "c10dbeab-8049-49d2-80ab-c350d96ceb46",
   "metadata": {
    "tags": []
   },
   "source": [
    "### Research Overview\n",
    "\n",
    "The objective is to examine trends in the film industry over the past four decades using the provided dataset. The analysis will cover yearly rating trends, rating comparisons across genres, influential directors or actors, the relationship between box office gross and ratings, and the impact of movie runtime on ratings.\n",
    "\n",
    "#### 1. Yearly Rating Trends:\n",
    "This section analyzes the trend of average ratings over the years.\n",
    "\n",
    "#### Code:\n",
    "```python\n",
    "# Yearly Rating Trends\n",
    "yearly_avg_rating = data.groupby(data['year'].dt.year)['rating'].mean()\n",
    "\n",
    "# Output in English\n",
    "print(\"1. Yearly Average Rating Trends:\\n\", yearly_avg_rating)\n"
   ]
  },
  {
   "cell_type": "markdown",
   "id": "ac6f0ae2-5c8b-4009-b122-220c9318cd97",
   "metadata": {},
   "source": [
    "#### 1. Yearly Rating Trends:\n",
    "This section analyzes the trend of average ratings over the years."
   ]
  },
  {
   "cell_type": "code",
   "execution_count": null,
   "id": "e6cea794-0237-46c2-a2c0-9df1e7e2f99a",
   "metadata": {},
   "outputs": [],
   "source": [
    "import pandas as pd\n",
    "\n",
    "# Read the dataset\n",
    "data = pd.read_csv('your_dataset.csv')  # Replace with your dataset path\n",
    "\n",
    "# Convert the 'year' column to datetime format\n",
    "data['year'] = pd.to_datetime(data['year'], format='%Y')\n"
   ]
  },
  {
   "cell_type": "code",
   "execution_count": 3,
   "id": "dfd63f77-057c-4a61-aeab-f3b1ef779b33",
   "metadata": {
    "tags": []
   },
   "outputs": [
    {
     "ename": "NameError",
     "evalue": "name 'data' is not defined",
     "output_type": "error",
     "traceback": [
      "\u001b[0;31m---------------------------------------------------------------------------\u001b[0m",
      "\u001b[0;31mNameError\u001b[0m                                 Traceback (most recent call last)",
      "Cell \u001b[0;32mIn[3], line 2\u001b[0m\n\u001b[1;32m      1\u001b[0m \u001b[38;5;66;03m# Yearly Rating Trends\u001b[39;00m\n\u001b[0;32m----> 2\u001b[0m yearly_avg_rating \u001b[38;5;241m=\u001b[39m data\u001b[38;5;241m.\u001b[39mgroupby(data[\u001b[38;5;124m'\u001b[39m\u001b[38;5;124myear\u001b[39m\u001b[38;5;124m'\u001b[39m]\u001b[38;5;241m.\u001b[39mdt\u001b[38;5;241m.\u001b[39myear)[\u001b[38;5;124m'\u001b[39m\u001b[38;5;124mrating\u001b[39m\u001b[38;5;124m'\u001b[39m]\u001b[38;5;241m.\u001b[39mmean()\n",
      "\u001b[0;31mNameError\u001b[0m: name 'data' is not defined"
     ]
    }
   ],
   "source": [
    "# Yearly Rating Trends\n",
    "yearly_avg_rating = data.groupby(data['year'].dt.year)['rating'].mean()"
   ]
  }
 ],
 "metadata": {
  "kernelspec": {
   "display_name": "Python 3 (ipykernel)",
   "language": "python",
   "name": "python3"
  },
  "language_info": {
   "codemirror_mode": {
    "name": "ipython",
    "version": 3
   },
   "file_extension": ".py",
   "mimetype": "text/x-python",
   "name": "python",
   "nbconvert_exporter": "python",
   "pygments_lexer": "ipython3",
   "version": "3.11.5"
  }
 },
 "nbformat": 4,
 "nbformat_minor": 5
}
